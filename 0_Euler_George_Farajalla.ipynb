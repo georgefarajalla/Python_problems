{
 "cells": [
  {
   "cell_type": "markdown",
   "metadata": {},
   "source": [
    "### George Farajalla\n",
    "\n",
   ]
  },
  {
   "cell_type": "markdown",
   "metadata": {},
   "source": [
    "# Project Euler"
   ]
  },
  {
   "cell_type": "markdown",
   "metadata": {},
   "source": [
    "### -1. Add all the natural numbers below 1000 that are multiples of 3 or 5:\n",
    "\n",
    "https://projecteuler.net/problem=1"
   ]
  },
  {
   "cell_type": "code",
   "execution_count": 9,
   "metadata": {},
   "outputs": [],
   "source": [
    "def numbers35 (n):\n",
    "    sums = 0 # variable to store the sum\n",
    "    for number in range(1, n): # we use a for loop to scan through all numbers from 1 until n\n",
    "        if number % 3 == 0 or number % 5 == 0: \n",
    "            sums += number\n",
    "    return sums"
   ]
  },
  {
   "cell_type": "code",
   "execution_count": 10,
   "metadata": {},
   "outputs": [
    {
     "data": {
      "text/plain": [
       "233168"
      ]
     },
     "execution_count": 10,
     "metadata": {},
     "output_type": "execute_result"
    }
   ],
   "source": [
    "num = numbers35(1000)\n",
    "num"
   ]
  },
  {
   "cell_type": "markdown",
   "metadata": {},
   "source": [
    "### -2. Find the sum of all the even-valued terms in the Fibonacci sequence which do not exceed four million\n",
    "\n",
    "https://projecteuler.net/problem=2"
   ]
  },
  {
   "cell_type": "code",
   "execution_count": 18,
   "metadata": {},
   "outputs": [],
   "source": [
    "# this generator yields all numbers in the Fibonacci sequence\n",
    "def fibonacci():\n",
    "    a = 0\n",
    "    b = 1\n",
    "    while True:\n",
    "        yield a\n",
    "        a, b = b, a + b"
   ]
  },
  {
   "cell_type": "code",
   "execution_count": 19,
   "metadata": {},
   "outputs": [],
   "source": [
    "# this function prints the first n numbers of the Fibonacci sequence\n",
    "def first_n_fib(n):\n",
    "    counter = 0\n",
    "    for number in fibonacci(): # a for loop is used to scan through each number of the Fibonacci sequence\n",
    "        print(number)\n",
    "        counter += 1\n",
    "        if counter >= n:\n",
    "            break"
   ]
  },
  {
   "cell_type": "code",
   "execution_count": 20,
   "metadata": {},
   "outputs": [],
   "source": [
    "# this function returns the sum of the even numbers in the Fibonacci sequence until n\n",
    "def sum_Fibonacci(n):\n",
    "    result = 0\n",
    "    for number in fibonacci(): # a for loop is used to scan through each number of the Fibonacci sequence\n",
    "        if number < n:\n",
    "            if number % 2 == 0:\n",
    "                result += number\n",
    "        else:\n",
    "            break\n",
    "        \n",
    "    return result"
   ]
  },
  {
   "cell_type": "code",
   "execution_count": 21,
   "metadata": {},
   "outputs": [
    {
     "data": {
      "text/plain": [
       "4613732"
      ]
     },
     "execution_count": 21,
     "metadata": {},
     "output_type": "execute_result"
    }
   ],
   "source": [
    "sum_Fibonacci(4_000_000)"
   ]
  },
  {
   "cell_type": "markdown",
   "metadata": {},
   "source": [
    "### -3. What is the largest prime factor of the number 600851475143?\n",
    "\n",
    "https://projecteuler.net/problem=3"
   ]
  },
  {
   "cell_type": "code",
   "execution_count": 3,
   "metadata": {},
   "outputs": [],
   "source": [
    "# this function checks if a number is prime or not\n",
    "def is_prime(x):\n",
    "    \n",
    "    if x > 2:\n",
    "        # we scan from 2 up until the square root of the target number\n",
    "        # if the number is divisible by 2 then it is not prime\n",
    "        # the upper bound of the loop is the square root of the target\n",
    "        # number since if it is divisble by any number in between the it is not prime\n",
    "        for n in range(2, int((x ** 0.5)) + 1): \n",
    "            \n",
    "            if (x % n) == 0:\n",
    "                return False\n",
    "        \n",
    "        return True\n",
    "    \n",
    "    elif x == 2: # if the number is equal to 2 then it is prime\n",
    "        return True\n",
    "    \n",
    "    else:\n",
    "        return False"
   ]
  },
  {
   "cell_type": "code",
   "execution_count": 4,
   "metadata": {},
   "outputs": [],
   "source": [
    "def largest_prime_factor(n):\n",
    "    \n",
    "    factor_list = [] # list to store the factors and then obtain the max value\n",
    "    \n",
    "    for number in range(1, int((n ** 0.5) + 1)):\n",
    "        if is_prime(number) == True and n % number == 0:\n",
    "            factor_list.append(number)\n",
    "            \n",
    "    largest_prime = max(factor_list)\n",
    "    return largest_prime"
   ]
  },
  {
   "cell_type": "code",
   "execution_count": 5,
   "metadata": {},
   "outputs": [
    {
     "data": {
      "text/plain": [
       "6857"
      ]
     },
     "execution_count": 5,
     "metadata": {},
     "output_type": "execute_result"
    }
   ],
   "source": [
    "largest_prime_factor(600851475143)"
   ]
  },
  {
   "cell_type": "markdown",
   "metadata": {},
   "source": [
    "### -4. Find the largest palindrome made from the product of two 3-digit numbers\n",
    "\n",
    "https://projecteuler.net/problem=4"
   ]
  },
  {
   "cell_type": "code",
   "execution_count": 19,
   "metadata": {},
   "outputs": [],
   "source": [
    "def palindromes(lower, upper):\n",
    "    \n",
    "    ## stores all possible products of the specified numbers\n",
    "    product = [] \n",
    "\n",
    "    ## checks if the lower bound is larger than the upper, and reverses them if the lower is larger\n",
    "    if lower > upper:\n",
    "        dummy = lower ## dummy variable to store the lower bound\n",
    "        lower = upper\n",
    "        upper = dummy\n",
    "    \n",
    "    else:\n",
    "        pass\n",
    "    \n",
    "    ## calculates the products by scanning through all possible combinations\n",
    "    for ii in range(lower, upper):  \n",
    "        for jj in range(lower, upper):\n",
    "            product.append(ii*jj) ## appends the product to the list of products\n",
    "    \n",
    "    ## initializes a list to store palindromes\n",
    "    palindromes = [] \n",
    "\n",
    "    ## scans through the product list to check for palindromes\n",
    "    for number in product: \n",
    "        if str(number) == str(number)[::-1]: ## converts number to string to check if it is a palindrome\n",
    "            palindromes.append(number)\n",
    "    \n",
    "    largest = max(palindromes) ## largest palindrome\n",
    "    return largest"
   ]
  },
  {
   "cell_type": "code",
   "execution_count": 21,
   "metadata": {},
   "outputs": [
    {
     "data": {
      "text/plain": [
       "906609"
      ]
     },
     "execution_count": 21,
     "metadata": {},
     "output_type": "execute_result"
    }
   ],
   "source": [
    "palindromes(1000, 100)"
   ]
  },
  {
   "cell_type": "markdown",
   "metadata": {},
   "source": [
    "### -5. What is the smallest positive number that is evenly divisible by all of the numbers from 1 to 20?\n",
    "\n",
    "https://projecteuler.net/problem=5"
   ]
  },
  {
   "cell_type": "code",
   "execution_count": 22,
   "metadata": {},
   "outputs": [],
   "source": [
    "# generator to yield natural numbers\n",
    "def naturals():\n",
    "    number = 1\n",
    "    while True:\n",
    "        yield number\n",
    "        number += 1"
   ]
  },
  {
   "cell_type": "code",
   "execution_count": 24,
   "metadata": {},
   "outputs": [],
   "source": [
    "def divisors(n):\n",
    "    \n",
    "    target_index = 0\n",
    "    target = 0\n",
    "\n",
    "    for number in naturals():\n",
    "    \n",
    "        target_index = 0\n",
    "    \n",
    "        for ii in range(1, n + 1):\n",
    "            if number % n == 0:\n",
    "                target_index += 1\n",
    "    \n",
    "        if target_index == n:\n",
    "            target = number\n",
    "            break\n",
    "        \n",
    "    return target"
   ]
  },
  {
   "cell_type": "code",
   "execution_count": null,
   "metadata": {},
   "outputs": [],
   "source": [
    "divisors(21)"
   ]
  },
  {
   "cell_type": "markdown",
   "metadata": {},
   "source": [
    "### -6. Find the difference between the sum of the squares of the first one hundred natural numbers and the square of the sum\n",
    "\n",
    "https://projecteuler.net/problem=6"
   ]
  },
  {
   "cell_type": "code",
   "execution_count": 11,
   "metadata": {},
   "outputs": [],
   "source": [
    "def sum_square(n):\n",
    "    \n",
    "    square_of_sum = sum(range(1, n + 1)) # calculates the sum of the numbers from 1 to n + 1\n",
    "    sum_of_square = 0\n",
    "    \n",
    "    for number in range(1, n + 1): # scans through the numbers between 1 and n and sums their square\n",
    "        sum_of_square += number ** 2\n",
    "    \n",
    "    difference = (square_of_sum ** 2) - sum_of_square\n",
    "    return difference\n",
    "        "
   ]
  },
  {
   "cell_type": "code",
   "execution_count": 12,
   "metadata": {},
   "outputs": [
    {
     "name": "stdout",
     "output_type": "stream",
     "text": [
      "25164150\n"
     ]
    }
   ],
   "source": [
    "print(sum_square(100))"
   ]
  },
  {
   "cell_type": "markdown",
   "metadata": {},
   "source": [
    "### -7. What is the 10 001st prime number?\n",
    "\n",
    "https://projecteuler.net/problem=7"
   ]
  },
  {
   "cell_type": "code",
   "execution_count": 1,
   "metadata": {},
   "outputs": [],
   "source": [
    "# natural number generator\n",
    "def naturals():\n",
    "    number = 1\n",
    "    while True:\n",
    "        yield number\n",
    "        number += 1"
   ]
  },
  {
   "cell_type": "code",
   "execution_count": 9,
   "metadata": {},
   "outputs": [],
   "source": [
    "# this function checks if a number is prime or not\n",
    "def is_prime(x):\n",
    "    \n",
    "    if x > 2:\n",
    "        # we scan from 2 up until the square root of the target number\n",
    "        # if the number is divisible by 2 then it is not prime\n",
    "        # the upper bound of the loop is the square root of the target\n",
    "        # number since if it is divisble by any number in between the it is not prime\n",
    "        for n in range(2, int((x ** 0.5)) + 1): \n",
    "            \n",
    "            if (x % n) == 0:\n",
    "                return False\n",
    "        \n",
    "        return True\n",
    "    \n",
    "    elif x == 2: # if the number is equal to 2 then it is prime\n",
    "        return True\n",
    "    \n",
    "    else:\n",
    "        return False"
   ]
  },
  {
   "cell_type": "code",
   "execution_count": 10,
   "metadata": {},
   "outputs": [],
   "source": [
    "def prime(target):\n",
    "    \n",
    "    prime_counter = 0 # increments by 1 every time a prime is found\n",
    "    target_prime = 0 # empty variable to store the target prime\n",
    "    \n",
    "    for number in naturals(): # scan through all possible naturals to find the target prime\n",
    "        \n",
    "        if is_prime(number) == True:\n",
    "            prime_counter += 1 # increment the counter by 1 every time a prime is found\n",
    "            \n",
    "        if prime_counter == target: # once the counter equals the desired position of the target prime\n",
    "            target_prime = number # the number is saved and the loop breaks\n",
    "            break\n",
    "    return target_prime        "
   ]
  },
  {
   "cell_type": "code",
   "execution_count": 11,
   "metadata": {},
   "outputs": [
    {
     "data": {
      "text/plain": [
       "104743"
      ]
     },
     "execution_count": 11,
     "metadata": {},
     "output_type": "execute_result"
    }
   ],
   "source": [
    "prime(10001)"
   ]
  },
  {
   "cell_type": "markdown",
   "metadata": {},
   "source": [
    "### -8. Find the thirteen adjacent digits in the 1000-digit number that have the greatest product. What is the value of this product?\n",
    "\n",
    "https://projecteuler.net/problem=8"
   ]
  },
  {
   "cell_type": "code",
   "execution_count": 21,
   "metadata": {},
   "outputs": [],
   "source": [
    "number_seq = 7316717653133062491922511967442657474235534919493496983520312774506326239578318016984801869478851843858615607891129494954595017379583319528532088055111254069874715852386305071569329096329522744304355766896648950445244523161731856403098711121722383113622298934233803081353362766142828064444866452387493035890729629049156044077239071381051585930796086670172427121883998797908792274921901699720888093776657273330010533678812202354218097512545405947522435258490771167055601360483958644670632441572215539753697817977846174064955149290862569321978468622482839722413756570560574902614079729686524145351004748216637048440319989000889524345065854122758866688116427171479924442928230863465674813919123162824586178664583591245665294765456828489128831426076900422421902267105562632111110937054421750694165896040807198403850962455444362981230987879927244284909188845801561660979191338754992005240636899125607176060588611646710940507754100225698315520005593572972571636269561882670428252483600823257530420752963450"
   ]
  },
  {
   "cell_type": "code",
   "execution_count": 22,
   "metadata": {},
   "outputs": [],
   "source": [
    "# this function calculates the product of the elements of a list\n",
    "def multiply_list (l):\n",
    "    \n",
    "    product = 1\n",
    "    \n",
    "    for ii in l:\n",
    "        product = product * ii\n",
    "    \n",
    "    return product"
   ]
  },
  {
   "cell_type": "code",
   "execution_count": 23,
   "metadata": {},
   "outputs": [],
   "source": [
    "def product(number_seq, n):\n",
    "    \n",
    "    num_list = [int(x) for x in str(number_seq)] ## list containing the sequence of numbers\n",
    "    length = len(num_list)\n",
    "    \n",
    "    prod_list = [] ## list to be filled by the products and then find the max value\n",
    "    temp = [] ## list to store the n sequence of numbers and calculate the product\n",
    "    product = 0 ## dummy variable used to compute the product of the elements of temp and then store in prod_list\n",
    "    \n",
    "    for number in range(0, length - n): # scan up until length minus n \n",
    "        temp.clear()\n",
    "        \n",
    "        for ii in range(number, number + n): # this for loop scans over n consecutive elements and stores them in a list\n",
    "            temp.append(num_list[ii])\n",
    "            \n",
    "        product = multiply_list(temp) # multiplies the n elements\n",
    "        prod_list.append(product) # and stores them inside this list\n",
    "    \n",
    "    temp.clear()\n",
    "    \n",
    "    target = max(prod_list)\n",
    "    \n",
    "    return target"
   ]
  },
  {
   "cell_type": "code",
   "execution_count": 24,
   "metadata": {},
   "outputs": [
    {
     "data": {
      "text/plain": [
       "23514624000"
      ]
     },
     "execution_count": 24,
     "metadata": {},
     "output_type": "execute_result"
    }
   ],
   "source": [
    "product(number_seq, 13)"
   ]
  },
  {
   "cell_type": "markdown",
   "metadata": {},
   "source": [
    "### -9. There exists exactly one Pythagorean triplet for which a + b + c = 1000. Find the product abc\n",
    "\n",
    "https://projecteuler.net/problem=9"
   ]
  },
  {
   "cell_type": "code",
   "execution_count": 25,
   "metadata": {},
   "outputs": [],
   "source": [
    "# natural number generator\n",
    "def naturals():\n",
    "    number = 1\n",
    "    while True:\n",
    "        yield number\n",
    "        number += 1"
   ]
  },
  {
   "cell_type": "code",
   "execution_count": 28,
   "metadata": {},
   "outputs": [],
   "source": [
    "def pythagorean(target):\n",
    "    \n",
    "    triplet = 0\n",
    "    # since c has to be the largest followed by b then a\n",
    "    # the loops start with the lowest values each one of \n",
    "    # the three numbers can have and calculates each\n",
    "    # possible combination. Once the triplet is found we \n",
    "    # exit all the loops\n",
    "    for c in range(3, target - 2):\n",
    "        for b in range(2, c):\n",
    "            for a in range(1, b):\n",
    "                \n",
    "                if (a + b + c == target) and ((a ** 2) + (b ** 2) == c ** 2):\n",
    "                    triplet = a * b * c\n",
    "                    break\n",
    "            else:\n",
    "                continue\n",
    "            break\n",
    "        else:\n",
    "            continue\n",
    "        break\n",
    "    \n",
    "    return triplet"
   ]
  },
  {
   "cell_type": "code",
   "execution_count": 29,
   "metadata": {},
   "outputs": [
    {
     "data": {
      "text/plain": [
       "31875000"
      ]
     },
     "execution_count": 29,
     "metadata": {},
     "output_type": "execute_result"
    }
   ],
   "source": [
    "pythagorean(1000)"
   ]
  },
  {
   "cell_type": "markdown",
   "metadata": {},
   "source": [
    "### -10. Find the sum of all the primes below two million\n",
    "\n",
    "https://projecteuler.net/problem=10"
   ]
  },
  {
   "cell_type": "code",
   "execution_count": 12,
   "metadata": {},
   "outputs": [],
   "source": [
    "# same function as before, to check if a number is a prime or not\n",
    "def is_prime(x):\n",
    "    \n",
    "    if x > 2:\n",
    "        \n",
    "        for n in range(2, int((x ** 0.5)) + 1):\n",
    "            \n",
    "            if (x % n) == 0:\n",
    "                return False\n",
    "        \n",
    "        return True\n",
    "    \n",
    "    elif x == 2:\n",
    "        return True\n",
    "    \n",
    "    else:\n",
    "        return False"
   ]
  },
  {
   "cell_type": "code",
   "execution_count": 15,
   "metadata": {},
   "outputs": [],
   "source": [
    "def sum_of_primes(n):\n",
    "    \n",
    "    sums = 0 # sum of prime numbers\n",
    "    \n",
    "    for number in range(0, n + 1): # scan through all numbers between 0 and n \n",
    "        if is_prime(number) == True: # if the number is prime it is added to the sum\n",
    "            sums += number\n",
    "        else:\n",
    "            pass\n",
    "\n",
    "    return sums"
   ]
  },
  {
   "cell_type": "code",
   "execution_count": 16,
   "metadata": {},
   "outputs": [
    {
     "data": {
      "text/plain": [
       "142913828922"
      ]
     },
     "execution_count": 16,
     "metadata": {},
     "output_type": "execute_result"
    }
   ],
   "source": [
    "sum_of_primes(2000000)"
   ]
  }
 ],
 "metadata": {
  "kernelspec": {
   "display_name": "Python 3",
   "language": "python",
   "name": "python3"
  },
  "language_info": {
   "codemirror_mode": {
    "name": "ipython",
    "version": 3
   },
   "file_extension": ".py",
   "mimetype": "text/x-python",
   "name": "python",
   "nbconvert_exporter": "python",
   "pygments_lexer": "ipython3",
   "version": "3.7.3"
  }
 },
 "nbformat": 4,
 "nbformat_minor": 4
}
